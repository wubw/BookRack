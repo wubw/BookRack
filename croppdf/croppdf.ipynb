{
 "cells": [
  {
   "cell_type": "code",
   "execution_count": null,
   "metadata": {},
   "outputs": [],
   "source": [
    "pip install pypdf2"
   ]
  },
  {
   "cell_type": "code",
   "execution_count": null,
   "metadata": {},
   "outputs": [],
   "source": [
    "from PyPDF2 import PdfFileReader, PdfFileWriter"
   ]
  },
  {
   "cell_type": "code",
   "execution_count": null,
   "metadata": {},
   "outputs": [],
   "source": [
    "orginal_file = 'The Little Book of Common Sense Investing.pdf'\n",
    "reader = PdfFileReader(orginal_file, 'r')"
   ]
  },
  {
   "cell_type": "code",
   "execution_count": null,
   "metadata": {},
   "outputs": [],
   "source": [
    "reader.getNumPages()"
   ]
  },
  {
   "cell_type": "code",
   "execution_count": null,
   "metadata": {},
   "outputs": [],
   "source": [
    "for i in range(reader.getNumPages()):\n",
    "    page = reader.getPage(i)\n",
    "    print(page.cropBox.getLowerLeft() + page.cropBox.getUpperRight())"
   ]
  },
  {
   "cell_type": "code",
   "execution_count": null,
   "metadata": {},
   "outputs": [],
   "source": [
    "writer = PdfFileWriter()"
   ]
  },
  {
   "cell_type": "code",
   "execution_count": null,
   "metadata": {},
   "outputs": [],
   "source": [
    "for i in range(reader.getNumPages()):\n",
    "    page = reader.getPage(i)\n",
    "    box = page.cropBox.getLowerLeft() + page.cropBox.getUpperRight()\n",
    "    left_margin = 45\n",
    "    right_margin = 45\n",
    "    top_margin = 60\n",
    "    bottom_margin = 35\n",
    "    page.cropBox.setLowerLeft((box[0]+left_margin, box[1]+bottom_margin))\n",
    "    page.cropBox.setUpperRight((box[2]-right_margin, box[3]-top_margin))\n",
    "    writer.addPage(page)"
   ]
  },
  {
   "cell_type": "code",
   "execution_count": null,
   "metadata": {},
   "outputs": [],
   "source": [
    "outstream = open('crop_' + orginal_file, 'wb')\n",
    "writer.write(outstream)\n",
    "outstream.close()"
   ]
  }
 ],
 "metadata": {
  "kernelspec": {
   "display_name": "Python 3",
   "language": "python",
   "name": "python3"
  },
  "language_info": {
   "codemirror_mode": {
    "name": "ipython",
    "version": 3
   },
   "file_extension": ".py",
   "mimetype": "text/x-python",
   "name": "python",
   "nbconvert_exporter": "python",
   "pygments_lexer": "ipython3",
   "version": "3.7.3"
  }
 },
 "nbformat": 4,
 "nbformat_minor": 2
}
